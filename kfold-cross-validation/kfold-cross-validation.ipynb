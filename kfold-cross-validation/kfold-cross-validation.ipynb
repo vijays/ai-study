{
 "cells": [
  {
   "cell_type": "code",
   "execution_count": 1,
   "id": "08163064-d4f2-45e4-b7e8-dcf8a4ea3feb",
   "metadata": {},
   "outputs": [],
   "source": [
    "from sklearn.datasets import load_iris\n",
    "from sklearn.model_selection import KFold\n",
    "from sklearn.linear_model import LogisticRegression\n",
    "from sklearn.svm import SVC\n",
    "from sklearn.ensemble import RandomForestClassifier"
   ]
  },
  {
   "cell_type": "markdown",
   "id": "6c88ce63-25ea-4031-8b8a-d513956a13c8",
   "metadata": {},
   "source": [
    "Demo KFold split"
   ]
  },
  {
   "cell_type": "code",
   "execution_count": 2,
   "id": "b4e9afac-0fa9-4cc9-8397-27fe698c26f1",
   "metadata": {},
   "outputs": [],
   "source": [
    "kf = KFold(n_splits=3) #3 folds"
   ]
  },
  {
   "cell_type": "code",
   "execution_count": 3,
   "id": "8f648efb-1543-4e03-9800-323a12fe596c",
   "metadata": {},
   "outputs": [
    {
     "name": "stdout",
     "output_type": "stream",
     "text": [
      "[3 4 5 6 7] [0 1 2]\n",
      "[0 1 2 6 7] [3 4 5]\n",
      "[0 1 2 3 4 5] [6 7]\n"
     ]
    }
   ],
   "source": [
    "for train_index, test_index in kf.split([1,2,3,4,5,6,7,8]):\n",
    "    print(train_index, test_index)"
   ]
  },
  {
   "cell_type": "markdown",
   "id": "cf44b794-3f1a-4ba5-94d3-0ca112e31024",
   "metadata": {},
   "source": [
    "Load IRIS data"
   ]
  },
  {
   "cell_type": "code",
   "execution_count": 4,
   "id": "5e3b164c-e3d9-412e-af1a-e6194745f53d",
   "metadata": {},
   "outputs": [],
   "source": [
    "iris = load_iris()"
   ]
  },
  {
   "cell_type": "code",
   "execution_count": 5,
   "id": "9bfdd04a-3263-438c-b185-9d844d4a7189",
   "metadata": {},
   "outputs": [
    {
     "data": {
      "text/plain": [
       "['DESCR',\n",
       " 'data',\n",
       " 'data_module',\n",
       " 'feature_names',\n",
       " 'filename',\n",
       " 'frame',\n",
       " 'target',\n",
       " 'target_names']"
      ]
     },
     "execution_count": 5,
     "metadata": {},
     "output_type": "execute_result"
    }
   ],
   "source": [
    "dir (iris)"
   ]
  },
  {
   "cell_type": "markdown",
   "id": "3271be4c-e6a3-49eb-9ab8-f58c94672d9d",
   "metadata": {},
   "source": [
    "Split data into train and test"
   ]
  },
  {
   "cell_type": "code",
   "execution_count": 6,
   "id": "e5b8e2c3-c27d-401d-92b9-c69abf21b038",
   "metadata": {},
   "outputs": [],
   "source": [
    "from sklearn.model_selection import train_test_split\n",
    "X_train, X_test, y_train, y_test = train_test_split(iris.data, iris.target, test_size=0.33)"
   ]
  },
  {
   "cell_type": "markdown",
   "id": "71d4c6c2-490c-4916-952c-2cfd4fc56da0",
   "metadata": {},
   "source": [
    "Define a function to get score passing algorithm and data set details"
   ]
  },
  {
   "cell_type": "code",
   "execution_count": 7,
   "id": "04f9743c-3677-4e19-8115-b593d74208bd",
   "metadata": {},
   "outputs": [],
   "source": [
    "def get_score(model, X_train, y_train, X_test, y_test):\n",
    "    model.fit(X_train, y_train)\n",
    "    return model.score(X_test, y_test)"
   ]
  },
  {
   "cell_type": "code",
   "execution_count": 8,
   "id": "e467e4f1-4572-446e-86c5-88e5f0e0bb75",
   "metadata": {},
   "outputs": [
    {
     "data": {
      "text/plain": [
       "0.98"
      ]
     },
     "execution_count": 8,
     "metadata": {},
     "output_type": "execute_result"
    }
   ],
   "source": [
    "get_score(LogisticRegression(), X_train, y_train, X_test, y_test)"
   ]
  },
  {
   "cell_type": "code",
   "execution_count": 9,
   "id": "cbced7bc-78c6-4a75-b6ec-a551a148f910",
   "metadata": {},
   "outputs": [
    {
     "data": {
      "text/plain": [
       "0.98"
      ]
     },
     "execution_count": 9,
     "metadata": {},
     "output_type": "execute_result"
    }
   ],
   "source": [
    "get_score(SVC(), X_train, y_train, X_test, y_test)"
   ]
  },
  {
   "cell_type": "code",
   "execution_count": 10,
   "id": "b3ddf1ab-88df-4abb-b2d8-5833a9396664",
   "metadata": {},
   "outputs": [
    {
     "data": {
      "text/plain": [
       "0.98"
      ]
     },
     "execution_count": 10,
     "metadata": {},
     "output_type": "execute_result"
    }
   ],
   "source": [
    "get_score(RandomForestClassifier(n_estimators=10), X_train, y_train, X_test, y_test)"
   ]
  },
  {
   "cell_type": "markdown",
   "id": "f95e9b5a-759a-44c7-ad3c-5abaae5e2a4f",
   "metadata": {},
   "source": [
    "**All seem equally fine**"
   ]
  },
  {
   "cell_type": "markdown",
   "id": "ca948579-6b41-468f-8c4a-b74e16e4895a",
   "metadata": {},
   "source": [
    "Now compare it with Stratified KFold"
   ]
  },
  {
   "cell_type": "code",
   "execution_count": 11,
   "id": "d81700c5-b8de-4a6f-9a08-766e63310ce0",
   "metadata": {},
   "outputs": [],
   "source": [
    "import statistics\n",
    "from sklearn.model_selection import StratifiedKFold\n",
    "skf = StratifiedKFold(n_splits=3)"
   ]
  },
  {
   "cell_type": "markdown",
   "id": "f3aa7d30-8433-4fff-ada0-413fd1c97010",
   "metadata": {},
   "source": [
    "Manual calculation"
   ]
  },
  {
   "cell_type": "code",
   "execution_count": 12,
   "id": "2f0a0762-ea9e-43df-a9c4-c9da708e6497",
   "metadata": {},
   "outputs": [
    {
     "name": "stdout",
     "output_type": "stream",
     "text": [
      "Logistic Regression Mean: 0.97333\n",
      "SVM Mean: 0.96000\n",
      "Random Forest Mean: 0.95333\n"
     ]
    }
   ],
   "source": [
    "scores_lr =[]\n",
    "scores_svc = []\n",
    "scores_rf = []\n",
    "\n",
    "for train_index, test_index in skf.split(iris.data, iris.target):\n",
    "    \n",
    "    X_train, X_test = iris.data[train_index], iris.data[test_index]\n",
    "    y_train, y_test = iris.target[train_index], iris.target[test_index]\n",
    "\n",
    "    scores_lr.append(get_score(LogisticRegression(solver='lbfgs', max_iter=150), X_train, y_train, X_test, y_test))\n",
    "    scores_svc.append(get_score(SVC(), X_train, y_train, X_test, y_test))\n",
    "    scores_rf.append(get_score(RandomForestClassifier(n_estimators=42), X_train, y_train, X_test, y_test))\n",
    "\n",
    "print(f\"Logistic Regression Mean: {(statistics.mean(scores_lr)):.5f}\")\n",
    "print(f\"SVM Mean: {(statistics.mean(scores_svc)):.5f}\")\n",
    "print(f\"Random Forest Mean: {(statistics.mean(scores_rf)):.5f}\")"
   ]
  },
  {
   "cell_type": "markdown",
   "id": "95d4af33-4fd3-4e4c-89b2-66969643bad5",
   "metadata": {},
   "source": [
    "**Logistic Regression seems to be the best**"
   ]
  },
  {
   "cell_type": "markdown",
   "id": "73fb49f0-cc16-4e08-a510-8d0685db6f0a",
   "metadata": {},
   "source": [
    "Now, automating using Scikit Learn's cross_val_score"
   ]
  },
  {
   "cell_type": "code",
   "execution_count": 13,
   "id": "02522a9c-7328-4f96-950b-f62bfbec6a2c",
   "metadata": {},
   "outputs": [],
   "source": [
    "from sklearn.model_selection import cross_val_score"
   ]
  },
  {
   "cell_type": "code",
   "execution_count": 14,
   "id": "07560187-bf49-4548-b69d-b514dab4affa",
   "metadata": {},
   "outputs": [
    {
     "data": {
      "text/plain": [
       "np.float64(0.9733333333333334)"
      ]
     },
     "execution_count": 14,
     "metadata": {},
     "output_type": "execute_result"
    }
   ],
   "source": [
    "scores_lr_cvs = cross_val_score(LogisticRegression(solver='lbfgs', max_iter=150), iris.data, iris.target)\n",
    "statistics.mean(scores_lr_cvs)"
   ]
  },
  {
   "cell_type": "code",
   "execution_count": 15,
   "id": "30dfacb9-10fe-43a3-a401-0e7b7eb08104",
   "metadata": {},
   "outputs": [
    {
     "data": {
      "text/plain": [
       "np.float64(0.9666666666666667)"
      ]
     },
     "execution_count": 15,
     "metadata": {},
     "output_type": "execute_result"
    }
   ],
   "source": [
    "scores_svm_cvs = cross_val_score(SVC(), iris.data, iris.target)\n",
    "statistics.mean(scores_svm_cvs)"
   ]
  },
  {
   "cell_type": "code",
   "execution_count": 16,
   "id": "da07de57-50f1-4bf3-8d17-adf798f4ca96",
   "metadata": {},
   "outputs": [
    {
     "data": {
      "text/plain": [
       "np.float64(0.96)"
      ]
     },
     "execution_count": 16,
     "metadata": {},
     "output_type": "execute_result"
    }
   ],
   "source": [
    "scores_rf_cvs = cross_val_score(RandomForestClassifier(n_estimators=42), iris.data, iris.target)\n",
    "statistics.mean(scores_rf_cvs)"
   ]
  },
  {
   "cell_type": "markdown",
   "id": "40fcbc63-c5d7-49e0-92bd-e64e157baea6",
   "metadata": {},
   "source": [
    "**Logistic Regression is the best, seems to match manual caluclation**"
   ]
  },
  {
   "cell_type": "code",
   "execution_count": null,
   "id": "1e2ba03f-faf7-40a2-9227-ae448de4fcdb",
   "metadata": {},
   "outputs": [],
   "source": []
  }
 ],
 "metadata": {
  "kernelspec": {
   "display_name": "Python 3 (ipykernel)",
   "language": "python",
   "name": "python3"
  },
  "language_info": {
   "codemirror_mode": {
    "name": "ipython",
    "version": 3
   },
   "file_extension": ".py",
   "mimetype": "text/x-python",
   "name": "python",
   "nbconvert_exporter": "python",
   "pygments_lexer": "ipython3",
   "version": "3.11.2"
  }
 },
 "nbformat": 4,
 "nbformat_minor": 5
}
